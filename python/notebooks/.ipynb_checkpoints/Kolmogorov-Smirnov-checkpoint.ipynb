{
 "cells": [
  {
   "cell_type": "markdown",
   "id": "29f7f2db-b889-4cb7-b99f-8470a388f058",
   "metadata": {},
   "source": [
    "El objetivo de este cuaderno es encontrar una buena función de distribución para el estadístico de Kolmogorov-Smirnov tal y como lo utilizo en mi tesois; este estadístico probablemente dependerá de los parámetro n y p de la binomial hipotéticamente subyacente, así como del número N de muestras aleatorias extraídas. "
   ]
  },
  {
   "cell_type": "code",
   "execution_count": 1,
   "id": "ba8d6130-8ac7-4196-8f87-dcd4730f9061",
   "metadata": {},
   "outputs": [],
   "source": [
    "import numpy as np\n",
    "import scipy.stats as st\n",
    "import scipy.optimize as opt\n",
    "import matplotlib.pyplot as plt\n",
    "from myutils.mystats import Dks_monte_carlo_discrete"
   ]
  },
  {
   "cell_type": "code",
   "execution_count": 2,
   "id": "a756fbe6-d6df-4adb-8bf9-2542639dbeeb",
   "metadata": {},
   "outputs": [],
   "source": [
    "plt.rc('text', usetex=True)\n",
    "plt.rc('font', size=16, family='serif')\n",
    "plt.rc('figure', autolayout=True) # Esto ayuda a que algunas figuras encajen mejor"
   ]
  },
  {
   "cell_type": "code",
   "execution_count": 12,
   "id": "ff3b0b29-955e-4bb3-a239-37ba58c10a14",
   "metadata": {},
   "outputs": [],
   "source": [
    "def gen_data(N,n,p):\n",
    "    \"\"\"Esta función genera los N datos aleatorios y los devuelve como un 1darray\n",
    "    \"\"\"\n",
    "    ## Generamos N valores binomiales\n",
    "    # return st.binom.rvs(n=n,p=p,size=N)\n",
    "\n",
    "    ## Generamos bitwords de 'n' bits, y devolvemos la suma:\n",
    "    # result=[]\n",
    "    # for i in range(N):\n",
    "        # result.append(np.random.choice([0,1], size=n, p=[1-p,p]).sum())\n",
    "    # return np.array(result)\n",
    "\n",
    "    ## Calculamos la dist. primitiva esperada y la distancia de Hamming\n",
    "    p_prim = 1/2-np.sqrt(1-2*p)/2\n",
    "    set_prim = [np.random.choice([1,0],size=n,p=[p_prim,1-p_prim]) for i in range(N)]\n",
    "    result=[]\n",
    "    for i in range(N):\n",
    "        for j in range(i+1,N,1):\n",
    "            aux=0\n",
    "            for k in range(n):\n",
    "                if set_prim[i][k] != set_prim[j][k]:\n",
    "                    aux+=1\n",
    "            result.append(aux)\n",
    "    return np.array(result)"
   ]
  },
  {
   "cell_type": "markdown",
   "id": "5f0205e8-edb7-4583-9d42-919e86b13e15",
   "metadata": {},
   "source": [
    "# Análisis detallado paso a paso"
   ]
  },
  {
   "cell_type": "markdown",
   "id": "f81b6b14-32d7-4ed5-8632-846f03ecee09",
   "metadata": {},
   "source": [
    "## Definimos los hiperparámetros"
   ]
  },
  {
   "cell_type": "code",
   "execution_count": null,
   "id": "fe8f70d5-000b-4081-a22a-2fdffd99173f",
   "metadata": {},
   "outputs": [],
   "source": [
    "N = 100\n",
    "n = 100\n",
    "p = 0.07929443939330072"
   ]
  },
  {
   "cell_type": "markdown",
   "id": "d956da97-5d2d-48fd-bc9e-71c553ad5dd9",
   "metadata": {},
   "source": [
    "## Generamos los datos Dks"
   ]
  },
  {
   "cell_type": "code",
   "execution_count": null,
   "id": "26bd5e66-713e-4910-b28e-781db8aae271",
   "metadata": {},
   "outputs": [],
   "source": [
    "Dks=[]\n",
    "for t in range(1000):\n",
    "    data = np.array([gen_data(N) for i in range(20)]).flatten()\n",
    "    hist_data,_ = np.histogram(data, bins=n+1, range=(0,n), density=True) #np.unique(data,return_counts=True)\n",
    "    \n",
    "    Dks.append(np.max([np.abs(i-j) for i,j in zip(hist_data.cumsum(),st.binom.cdf(k=range(n+1),n=n,p=p))]))\n",
    "    \n",
    "    if (t+1)%100==0:\n",
    "        print(f\"{(t+1)/100:.0f} %\",end='\\r') # Número formateado a entero."
   ]
  },
  {
   "cell_type": "markdown",
   "id": "286aa557-b469-40e8-a9a7-29b77b6f1aba",
   "metadata": {},
   "source": [
    "## Construimos el histograma"
   ]
  },
  {
   "cell_type": "code",
   "execution_count": null,
   "id": "04a390ea-0742-4911-9459-43a3aa280c17",
   "metadata": {},
   "outputs": [],
   "source": [
    "#print(len(get_hist_smooth(Dks,p=0.9)[0]))\n",
    "hist,bins = np.histogram(Dks, density=True, bins=15, range=(0,max(Dks)))\n",
    "\n",
    "plt.bar(bins[:-1],hist, width=0.9*(bins[1]-bins[0]))\n",
    "plt.show()"
   ]
  },
  {
   "cell_type": "markdown",
   "id": "e18c9e38-5999-4348-bfb8-8d42a6482d7d",
   "metadata": {},
   "source": [
    "## Ajustamos el histograma a una curva normal sesgada"
   ]
  },
  {
   "cell_type": "code",
   "execution_count": null,
   "id": "4ddbd9bb-3381-40ae-ae38-036c1f8f1002",
   "metadata": {},
   "outputs": [],
   "source": [
    "a,loc,scale = opt.curve_fit(st.skewnorm.pdf, xdata=bins[:-1], ydata=hist, p0=[1,1,1])[0]\n",
    "print(f\"a:\\t{a}\\nloc:\\t{loc}\\nscale:\\t{scale}\")\n",
    "\n",
    "plt.plot(np.linspace(bins[0],bins[-1],100),st.skewnorm.pdf(np.linspace(bins[0],bins[-1],100),a=a,loc=loc,scale=scale),color='C1')\n",
    "plt.bar(bins[:-1],hist, width=0.9*(bins[1]-bins[0]),color='C0')\n",
    "plt.show()"
   ]
  },
  {
   "cell_type": "markdown",
   "id": "fb10aa75-04a4-4656-aab6-3dbac0a89eec",
   "metadata": {},
   "source": [
    "## Calculamos el intervalo de confianza (-inf,conf) para las significancias típicas"
   ]
  },
  {
   "cell_type": "code",
   "execution_count": null,
   "id": "5d320eb7-15ac-4a62-87f0-4a0c62e48369",
   "metadata": {},
   "outputs": [],
   "source": [
    "alpha = [1-68/100, 1-95/100, 1-99/100] # Niveles de significancia típicos (\"regla empírica\").\n",
    "\n",
    "def func(x,a,loc,scale,alpha):\n",
    "    return st.skewnorm.cdf(x=x,a=a,loc=loc,scale=scale)-(1-alpha)\n",
    "\n",
    "conf = [opt.root_scalar(func, args=(a,loc,scale,alpha), bracket=(bins[0],bins[-1]))['root'] for alpha in alpha]\n",
    "\n",
    "plt.plot(np.linspace(bins[0],bins[-1],100),st.skewnorm.pdf(x=np.linspace(bins[0],bins[-1],100),a=a,loc=loc,scale=scale),color='C1', label=\"Interpolación\",lw=3)\n",
    "plt.bar(bins[:-1],hist, width=0.9*(bins[1]-bins[0]),color='C0', label=\"Simulación\")\n",
    "plt.annotate(text=f\"$32 \\%$\", xy=(conf[0],0), xytext=(conf[0],0.95*max(hist)),\n",
    "             arrowprops=dict(width=1,headwidth=0,color='grey'),color='grey')\n",
    "plt.annotate(text=f\"$5 \\%$\", xy=(conf[1],0), xytext=(conf[1],0.95*max(hist)),\n",
    "             arrowprops=dict(width=1,headwidth=0,color='grey'),color='grey')\n",
    "plt.annotate(text=f\"$1 \\%$\", xy=(conf[2],0), xytext=(conf[2],0.95*max(hist)),\n",
    "             arrowprops=dict(width=1,headwidth=0,color='grey'),color='grey')\n",
    "plt.xlabel(\"Estadístico de Kolmogorov-Smirnov\")\n",
    "plt.ylabel(\"Probabilidad\")\n",
    "#plt.legend()\n",
    "#plt.show()\n",
    "plt.savefig(\"distribucion-dks.pdf\",bbox_inches='tight')\n",
    "\n",
    "print(f\"N: {N}\\nn: {n}\\np: {p}\\n\")\n",
    "print(f\"alpha\\tconf\\n{alpha[0]:.2f}\\t{conf[0]}\\n{alpha[1]:.2f}\\t{conf[1]}\\n{alpha[2]:.2f}\\t{conf[2]}\\n----------------------------------\")"
   ]
  },
  {
   "cell_type": "markdown",
   "id": "909c64ed-f1dd-4fa6-be35-08535550e888",
   "metadata": {},
   "source": [
    "## Calculamos el intervalo de confianza entorno a la media para las significancias típicas"
   ]
  },
  {
   "cell_type": "code",
   "execution_count": null,
   "id": "863930ee-48d6-48d5-a93e-60de0497b14c",
   "metadata": {},
   "outputs": [],
   "source": [
    "print(st.skewnorm.interval(0.68,a=a,loc=loc,scale=scale))\n",
    "print(st.skewnorm.interval(0.95,a=a,loc=loc,scale=scale))\n",
    "print(st.skewnorm.interval(0.99,a=a,loc=loc,scale=scale))"
   ]
  },
  {
   "cell_type": "markdown",
   "id": "dcdc4fd1-0ebb-4946-88e8-dff6c203ee9a",
   "metadata": {},
   "source": [
    "# Función para realizar la simulación de Monte-Carlo de Dks:"
   ]
  },
  {
   "cell_type": "code",
   "execution_count": 16,
   "id": "198032c3-ade5-412e-a4bf-5f3ed31a90be",
   "metadata": {
    "collapsed": true,
    "jupyter": {
     "outputs_hidden": true
    }
   },
   "outputs": [
    {
     "name": "stdout",
     "output_type": "stream",
     "text": [
      "1/100\n",
      "2/100\n",
      "3/100\n",
      "4/100\n",
      "5/100\n",
      "6/100\n",
      "7/100\n",
      "8/100\n",
      "9/100\n",
      "10/100\n",
      "11/100\n",
      "12/100\n",
      "13/100\n",
      "14/100\n",
      "15/100\n",
      "16/100\n",
      "17/100\n",
      "18/100\n",
      "19/100\n",
      "20/100\n",
      "21/100\n",
      "22/100\n",
      "23/100\n",
      "24/100\n",
      "25/100\n",
      "26/100\n",
      "27/100\n",
      "28/100\n",
      "29/100\n",
      "30/100\n",
      "31/100\n",
      "32/100\n",
      "33/100\n",
      "34/100\n",
      "35/100\n",
      "36/100\n",
      "37/100\n",
      "38/100\n",
      "39/100\n",
      "40/100\n",
      "41/100\n",
      "42/100\n",
      "43/100\n",
      "44/100\n",
      "45/100\n",
      "46/100\n",
      "47/100\n",
      "48/100\n",
      "49/100\n",
      "50/100\n",
      "51/100\n",
      "52/100\n",
      "53/100\n",
      "54/100\n",
      "55/100\n",
      "56/100\n",
      "57/100\n",
      "58/100\n",
      "59/100\n",
      "60/100\n",
      "61/100\n",
      "62/100\n",
      "63/100\n",
      "64/100\n",
      "65/100\n",
      "66/100\n",
      "67/100\n",
      "68/100\n",
      "69/100\n",
      "70/100\n",
      "71/100\n",
      "72/100\n",
      "73/100\n",
      "74/100\n",
      "75/100\n",
      "76/100\n",
      "77/100\n",
      "78/100\n",
      "79/100\n",
      "80/100\n",
      "81/100\n",
      "82/100\n",
      "83/100\n",
      "84/100\n",
      "85/100\n",
      "86/100\n",
      "87/100\n",
      "88/100\n",
      "89/100\n",
      "90/100\n",
      "91/100\n",
      "92/100\n",
      "93/100\n",
      "94/100\n",
      "95/100\n",
      "96/100\n",
      "97/100\n",
      "98/100\n",
      "99/100\n",
      "100/100\n"
     ]
    },
    {
     "data": {
      "image/png": "[encoded data removed]",
      "text/plain": [
       "<Figure size 640x480 with 1 Axes>"
      ]
     },
     "metadata": {},
     "output_type": "display_data"
    },
    {
     "name": "stdout",
     "output_type": "stream",
     "text": [
      "alpha\tconf\n",
      "0.32\t0.05203228936281054\n",
      "0.05\t0.07953459102113587\n",
      "0.01\t0.09707676518010856\n",
      "----------------------------------\n"
     ]
    }
   ],
   "source": [
    "Dks = []\n",
    "for i in range(100):\n",
    "    Dks += Dks_monte_carlo_discrete(model=gen_data, T=10000, N=20, fit=st.binom.pmf(k=range(101),n=100,p=0.5), n=100, p=0.5)\n",
    "    print(f'{i+1}/100')\n",
    "\n",
    "def _func(x,a,loc,scale,alpha):\n",
    "    return st.skewnorm.cdf(x=x,a=a,loc=loc,scale=scale)-(1-alpha)\n",
    "hist,bins = np.histogram(Dks, density=True, bins=15, range=(0,max(Dks)))\n",
    "\n",
    "a,loc,scale = opt.curve_fit(st.skewnorm.pdf, xdata=bins[:-1], ydata=hist, p0=[1,1,1])[0]\n",
    "\n",
    "plt.plot(np.linspace(bins[0],bins[-1],100),st.skewnorm.pdf(np.linspace(bins[0],bins[-1],100),a=a,loc=loc,scale=scale),color='C1')\n",
    "plt.bar(bins[:-1],hist, width=0.9*(bins[1]-bins[0]),color='C0')\n",
    "plt.show()\n",
    "alpha = [1-68/100, 1-95/100, 1-99/100] # Niveles de significancia típicos (\"regla empírica\").\n",
    "\n",
    "conf = [opt.root_scalar(_func, args=(a,loc,scale,alpha), bracket=(bins[0],bins[-1]))['root'] for alpha in alpha]\n",
    "print(f\"alpha\\tconf\\n{alpha[0]:.2f}\\t{conf[0]}\\n{alpha[1]:.2f}\\t{conf[1]}\\n{alpha[2]:.2f}\\t{conf[2]}\\n----------------------------------\")"
   ]
  },
  {
   "cell_type": "code",
   "execution_count": 22,
   "id": "278dee71-55b2-4550-a66a-bb7c99f41cbd",
   "metadata": {},
   "outputs": [],
   "source": [
    "def fit_skewnorm(data, bins=10, alpha=False, plot=False):\n",
    "    \"\"\"Esta función ajusta una entrada de datos experimentales a una curva 'skew norm', que sirve de comodín para\n",
    "    representar una densidad de probabilidad. Además, la función devuelve el 'valor p' para una cierta significancia\n",
    "    'alpha' (típicamente utiizado en test de hipótesis alpha=0.05), y puede representar el plot correspondiente.\n",
    "    \n",
    "    :param data: Vector con los datos a ajustar.\n",
    "    :type data: Lista de float.\n",
    "\n",
    "    :param bins: Número de cajas para el histograma de `data`.\n",
    "    :type bins: int, opcional.\n",
    "\n",
    "    :param alpha: Valor de significancia 'alpha' para el cual se calcula el valor p, i.e., el valor tal que de p a infinito la proporción de área bajo la densidad es `alpha`.\n",
    "    :type alpha: float, opcional.\n",
    "\n",
    "    :param plot: Si `True` pinta el histograma y superpone la curva encontrada.\n",
    "    :type plot: bool, opcional.\n",
    "\n",
    "    :return: La función devuelve una lista que contiene los tres parámetros que ajustan la curva (a, loc, scale), y el histograma y bineado de los datos de entrada.\n",
    "    \"\"\"\n",
    "    def _func(x,a,loc,scale,alpha):\n",
    "        return st.skewnorm.cdf(x=x,a=a,loc=loc,scale=scale)-(1-alpha)\n",
    "    hist,edges = np.histogram(data, density=True, bins=bins, range=(min(0,min(data)),max(data)))\n",
    "    a,loc,scale = opt.curve_fit(st.skewnorm.pdf, xdata=edges[:-1], ydata=hist, p0=[1,1,1])[0]\n",
    "   \n",
    "    if alpha:\n",
    "        p_val = opt.root_scalar(_func, args=(a,loc,scale,alpha), bracket=(edges[0],edges[-1]))['root']\n",
    "        print(f\"alpha: {alpha} --> p val: {p_val}\")\n",
    "\n",
    "    if plot:\n",
    "        plt.plot(np.linspace(edges[0],edges[-1],100),st.skewnorm.pdf(x=np.linspace(edges[0],edges[-1],100),a=a,loc=loc,scale=scale),color='C1', label=\"Interpolación\",lw=3)\n",
    "        plt.bar(bins[:-1],hist, width=0.9*(edges[1]-edges[0]),color='C0', label=\"Simulación\")\n",
    "        if alpha:\n",
    "            plt.annotate(text=f\"${alpha*100:.2f} \\%$\", xy=(p_val,0), xytext=(p_val,0.95*max(hist)),\n",
    "                         arrowprops=dict(width=1,headwidth=0,color='grey'),color='grey')\n",
    "        plt.show()\n",
    "\n",
    "    return a,loc,scale,hist,edges"
   ]
  },
  {
   "cell_type": "code",
   "execution_count": 21,
   "id": "b364fdbf-8bda-4a24-b3eb-883c360bfe73",
   "metadata": {},
   "outputs": [],
   "source": [
    "np.savetxt('Dks_N20_n100_p0.5.txt', Dks)"
   ]
  },
  {
   "cell_type": "code",
   "execution_count": 23,
   "id": "1394f2ab-c312-44ee-8fd9-5f606b5c9286",
   "metadata": {},
   "outputs": [],
   "source": [
    "Dks_bis = np.loadtxt('Dks_N20_n100_p0.5.txt')"
   ]
  },
  {
   "cell_type": "code",
   "execution_count": 24,
   "id": "5c7c3913-0f48-4e8a-b561-197670dc03b8",
   "metadata": {},
   "outputs": [
    {
     "ename": "TypeError",
     "evalue": "'int' object is not subscriptable",
     "output_type": "error",
     "traceback": [
      "\u001b[1;31m---------------------------------------------------------------------------\u001b[0m",
      "\u001b[1;31mTypeError\u001b[0m                                 Traceback (most recent call last)",
      "Cell \u001b[1;32mIn[24], line 1\u001b[0m\n\u001b[1;32m----> 1\u001b[0m \u001b[43mfit_skewnorm\u001b[49m\u001b[43m(\u001b[49m\u001b[43mDks_bis\u001b[49m\u001b[43m,\u001b[49m\u001b[43m \u001b[49m\u001b[43mbins\u001b[49m\u001b[38;5;241;43m=\u001b[39;49m\u001b[38;5;241;43m10\u001b[39;49m\u001b[43m,\u001b[49m\u001b[43m \u001b[49m\u001b[43malpha\u001b[49m\u001b[38;5;241;43m=\u001b[39;49m\u001b[38;5;28;43;01mFalse\u001b[39;49;00m\u001b[43m,\u001b[49m\u001b[43m \u001b[49m\u001b[43mplot\u001b[49m\u001b[38;5;241;43m=\u001b[39;49m\u001b[38;5;28;43;01mFalse\u001b[39;49;00m\u001b[43m)\u001b[49m\n",
      "Cell \u001b[1;32mIn[22], line 23\u001b[0m, in \u001b[0;36mfit_skewnorm\u001b[1;34m(data, bins, alpha, plot)\u001b[0m\n\u001b[0;32m     21\u001b[0m     \u001b[38;5;28;01mreturn\u001b[39;00m st\u001b[38;5;241m.\u001b[39mskewnorm\u001b[38;5;241m.\u001b[39mcdf(x\u001b[38;5;241m=\u001b[39mx,a\u001b[38;5;241m=\u001b[39ma,loc\u001b[38;5;241m=\u001b[39mloc,scale\u001b[38;5;241m=\u001b[39mscale)\u001b[38;5;241m-\u001b[39m(\u001b[38;5;241m1\u001b[39m\u001b[38;5;241m-\u001b[39malpha)\n\u001b[0;32m     22\u001b[0m hist,edges \u001b[38;5;241m=\u001b[39m np\u001b[38;5;241m.\u001b[39mhistogram(data, density\u001b[38;5;241m=\u001b[39m\u001b[38;5;28;01mTrue\u001b[39;00m, bins\u001b[38;5;241m=\u001b[39mbins, \u001b[38;5;28mrange\u001b[39m\u001b[38;5;241m=\u001b[39m(\u001b[38;5;28mmin\u001b[39m(\u001b[38;5;241m0\u001b[39m,\u001b[38;5;28mmin\u001b[39m(data)),\u001b[38;5;28mmax\u001b[39m(data)))\n\u001b[1;32m---> 23\u001b[0m a,loc,scale \u001b[38;5;241m=\u001b[39m opt\u001b[38;5;241m.\u001b[39mcurve_fit(st\u001b[38;5;241m.\u001b[39mskewnorm\u001b[38;5;241m.\u001b[39mpdf, xdata\u001b[38;5;241m=\u001b[39m\u001b[43mbins\u001b[49m\u001b[43m[\u001b[49m\u001b[43m:\u001b[49m\u001b[38;5;241;43m-\u001b[39;49m\u001b[38;5;241;43m1\u001b[39;49m\u001b[43m]\u001b[49m, ydata\u001b[38;5;241m=\u001b[39mhist, p0\u001b[38;5;241m=\u001b[39m[\u001b[38;5;241m1\u001b[39m,\u001b[38;5;241m1\u001b[39m,\u001b[38;5;241m1\u001b[39m])[\u001b[38;5;241m0\u001b[39m]\n\u001b[0;32m     25\u001b[0m \u001b[38;5;28;01mif\u001b[39;00m alpha:\n\u001b[0;32m     26\u001b[0m     p_val \u001b[38;5;241m=\u001b[39m opt\u001b[38;5;241m.\u001b[39mroot_scalar(_func, args\u001b[38;5;241m=\u001b[39m(a,loc,scale,alpha), bracket\u001b[38;5;241m=\u001b[39m(edges[\u001b[38;5;241m0\u001b[39m],edges[\u001b[38;5;241m-\u001b[39m\u001b[38;5;241m1\u001b[39m]))[\u001b[38;5;124m'\u001b[39m\u001b[38;5;124mroot\u001b[39m\u001b[38;5;124m'\u001b[39m]\n",
      "\u001b[1;31mTypeError\u001b[0m: 'int' object is not subscriptable"
     ]
    }
   ],
   "source": [
    "fit_skewnorm(Dks_bis, bins=10, alpha=False, plot=False)"
   ]
  }
 ],
 "metadata": {
  "kernelspec": {
   "display_name": "Python 3 (ipykernel)",
   "language": "python",
   "name": "python3"
  },
  "language_info": {
   "codemirror_mode": {
    "name": "ipython",
    "version": 3
   },
   "file_extension": ".py",
   "mimetype": "text/x-python",
   "name": "python",
   "nbconvert_exporter": "python",
   "pygments_lexer": "ipython3",
   "version": "3.11.4"
  }
 },
 "nbformat": 4,
 "nbformat_minor": 5
}
