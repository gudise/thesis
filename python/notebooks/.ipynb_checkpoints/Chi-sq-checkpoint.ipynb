{
 "cells": [
  {
   "cell_type": "markdown",
   "id": "b2436089-dbac-450a-b7dc-b8ca6908c3d3",
   "metadata": {
    "tags": []
   },
   "source": [
    "# Estudio del test de hipótesis chi-sq"
   ]
  },
  {
   "cell_type": "code",
   "execution_count": 1,
   "id": "a3d42d64-89b9-458c-9f8a-e79f152125dd",
   "metadata": {
    "tags": []
   },
   "outputs": [],
   "source": [
    "import scipy.stats as st\n",
    "import numpy as np\n",
    "import matplotlib.pyplot as plt\n",
    "from myutils.mystats import*"
   ]
  },
  {
   "cell_type": "code",
   "execution_count": null,
   "id": "fec1292a-3098-498f-aa39-e8650d151f7d",
   "metadata": {
    "tags": []
   },
   "outputs": [],
   "source": [
    "n_obs = 10\n",
    "p_obs = 0.5\n",
    "n_modelo = 11\n",
    "p_modelo = 0.5\n",
    "\n",
    "chisq_gof_discrete(st.binom.rvs(n=n_obs, p=p_obs, size=1000), st.binom.pmf, plothist=True, alpha=0.05, n=n_modelo,p=p_modelo)"
   ]
  },
  {
   "cell_type": "code",
   "execution_count": null,
   "id": "30089afa-1fb6-4287-8e9a-6c572c867a9b",
   "metadata": {},
   "outputs": [],
   "source": [
    "def find_binning(data, n=10):\n",
    "    \"\"\"\n",
    "    Esta función busca un binneado tal que el número mínimo de eventos\n",
    "    en un bin sea 'n'\n",
    "    \"\"\"\n",
    "    b = max(data)\n",
    "    while 1:\n",
    "        aux = np.histogram(data, bins=b)\n",
    "        if min(aux[0])<=n:\n",
    "            b-=1\n",
    "        else:\n",
    "            return aux\n",
    "        \n",
    "        \n",
    "data = st.binom.rvs(n=100, p=0.48, size=1000000)\n",
    "data_hist = find_binning(data, 5)\n",
    "plt.bar(data_hist[1][:-1],data_hist[0])\n",
    "plt.show()\n",
    "\n",
    "print(data_hist[0])"
   ]
  },
  {
   "cell_type": "code",
   "execution_count": null,
   "id": "e8129e25-336f-418d-8b7e-5ad1a021587e",
   "metadata": {},
   "outputs": [],
   "source": [
    "## Histograma esperado de 10 bins para una distribución teórica n=100, p=0.5:\n",
    "n_bin=10\n",
    "\n",
    "hist_exp = [st.binom.pmf(k=range(100//n_bin*i,100//n_bin*(i+1),1), n=100, p=0.5).sum() for i in range(n_bin)]\n",
    "#print(hist_exp)\n",
    "plt.bar(range(n_bin),hist_exp)"
   ]
  },
  {
   "cell_type": "code",
   "execution_count": null,
   "id": "26df9c4f-db3e-4f2b-ba83-9660ff3708be",
   "metadata": {
    "tags": []
   },
   "outputs": [],
   "source": [
    "help('scipy.stats.chisquare')"
   ]
  },
  {
   "cell_type": "code",
   "execution_count": null,
   "id": "1c9cdefd-ca68-4a75-99cc-a4858835a39c",
   "metadata": {},
   "outputs": [],
   "source": [
    "N = 1000\n",
    "n = 100\n",
    "p = 0.5\n",
    "\n",
    "data_obs,data_obs_count = np.unique(st.binom.rvs(n=n, p=p, size=N), return_counts=True)\n",
    "data_obs_count = data_obs_count/data_obs_count.sum()\n",
    "data_exp = st.binom.pmf(k=data_obs,n=n,p=p)\n",
    "data_exp = data_exp/data_exp.sum()\n",
    "\n",
    "plt.bar(data_obs, data_obs_count,color='C0')\n",
    "plt.plot(data_obs, data_exp, color='C1')\n",
    "plt.show()\n",
    "\n",
    "chi2 = np.sum((data_obs_count-data_exp)**2/data_exp)\n",
    "print(chi2)"
   ]
  },
  {
   "cell_type": "code",
   "execution_count": 142,
   "id": "d34e5125-c2af-48c0-9e55-af24dfdad710",
   "metadata": {},
   "outputs": [
    {
     "name": "stdout",
     "output_type": "stream",
     "text": [
      "10000/10000\r"
     ]
    }
   ],
   "source": [
    "N = 10000\n",
    "n = 100\n",
    "p = 0.5\n",
    "b = 15\n",
    "\n",
    "chisq=[]\n",
    "for t in range(10000):\n",
    "    data_obs_count,data_obs = np.histogram(st.binom.rvs(n=n, p=p, size=N), bins=b)\n",
    "    #data_obs_count = data_obs_count/data_obs_count.sum()\n",
    "\n",
    "#print(data_obs)\n",
    "\n",
    "    data_exp = N*np.array([st.binom.pmf(k=range(int(np.ceil(data_obs[i])),int(np.fix(data_obs[i+1])),1),n=n,p=p).sum() for i in range(len(data_obs)-1)])\n",
    "    #data_exp = data_exp/data_exp.sum()\n",
    "\n",
    "#plt.bar(range(b),data_obs_count)\n",
    "#plt.plot(range(b),data_exp,'--o',color='C1')\n",
    "#plt.show()\n",
    "\n",
    "    chisq.append(np.sum( [((data_obs_count[i]-data_exp[i])**2)/data_exp[i] for i in range(b)]))\n",
    "    \n",
    "    if (t+1)%100==0:\n",
    "        print(f'{t+1}/10000', end='\\r')\n",
    "#print(chi2)"
   ]
  },
  {
   "cell_type": "code",
   "execution_count": 143,
   "id": "836418b6-0eb0-47a6-bc96-b92b2e0848fd",
   "metadata": {},
   "outputs": [
    {
     "data": {
      "image/png": "[encoded data removed]",
      "text/plain": [
       "<Figure size 432x288 with 1 Axes>"
      ]
     },
     "metadata": {
      "needs_background": "light"
     },
     "output_type": "display_data"
    },
    {
     "data": {
      "image/png": "[encoded data removed]",
      "text/plain": [
       "<Figure size 432x288 with 1 Axes>"
      ]
     },
     "metadata": {
      "needs_background": "light"
     },
     "output_type": "display_data"
    },
    {
     "name": "stdout",
     "output_type": "stream",
     "text": [
      "[0.0035 0.     0.0537 0.0815 0.2011 0.2255 0.297  0.1157 0.0184 0.0036]\n"
     ]
    }
   ],
   "source": [
    "hist,bins = np.histogram(chisq,bins=10)\n",
    "hist = hist/hist.sum()\n",
    "plt.plot(bins[:-1],hist,'o')\n",
    "plt.show()\n",
    "plt.plot(np.linspace(0,100,100), st.chi2.pdf(x=np.linspace(0,100,100),df=14))\n",
    "plt.show()\n",
    "print(hist)"
   ]
  },
  {
   "cell_type": "code",
   "execution_count": 40,
   "id": "166a49a5-93a6-4839-abd5-a94ad0579168",
   "metadata": {},
   "outputs": [
    {
     "name": "stdout",
     "output_type": "stream",
     "text": [
      "2.0\n"
     ]
    }
   ],
   "source": [
    "a=np.array(2.0)\n",
    "print(np.ceil(a))"
   ]
  },
  {
   "cell_type": "code",
   "execution_count": 30,
   "id": "0df54c75-26e2-43b8-b0fa-c35f230c3ff1",
   "metadata": {},
   "outputs": [
    {
     "name": "stdout",
     "output_type": "stream",
     "text": [
      "Help on function fix in numpy:\n",
      "\n",
      "numpy.fix = fix(x, out=None)\n",
      "    Round to nearest integer towards zero.\n",
      "    \n",
      "    Round an array of floats element-wise to nearest integer towards zero.\n",
      "    The rounded values are returned as floats.\n",
      "    \n",
      "    Parameters\n",
      "    ----------\n",
      "    x : array_like\n",
      "        An array of floats to be rounded\n",
      "    out : ndarray, optional\n",
      "        A location into which the result is stored. If provided, it must have\n",
      "        a shape that the input broadcasts to. If not provided or None, a\n",
      "        freshly-allocated array is returned.\n",
      "    \n",
      "    Returns\n",
      "    -------\n",
      "    out : ndarray of floats\n",
      "        A float array with the same dimensions as the input.\n",
      "        If second argument is not supplied then a float array is returned\n",
      "        with the rounded values.\n",
      "    \n",
      "        If a second argument is supplied the result is stored there.\n",
      "        The return value `out` is then a reference to that array.\n",
      "    \n",
      "    See Also\n",
      "    --------\n",
      "    rint, trunc, floor, ceil\n",
      "    around : Round to given number of decimals\n",
      "    \n",
      "    Examples\n",
      "    --------\n",
      "    >>> np.fix(3.14)\n",
      "    3.0\n",
      "    >>> np.fix(3)\n",
      "    3.0\n",
      "    >>> np.fix([2.1, 2.9, -2.1, -2.9])\n",
      "    array([ 2.,  2., -2., -2.])\n",
      "\n"
     ]
    }
   ],
   "source": [
    "help('numpy.fix')"
   ]
  },
  {
   "cell_type": "markdown",
   "id": "b4fd58a1-07b0-44db-b504-980e000551cc",
   "metadata": {},
   "source": [
    "# Ejemplo de test $\\chi^2$ para el artículo NIST "
   ]
  },
  {
   "cell_type": "code",
   "execution_count": 137,
   "id": "b87c5b0a-c638-4149-ac55-e5f0aea755c5",
   "metadata": {},
   "outputs": [
    {
     "data": {
      "image/png": "[encoded data removed]",
      "text/plain": [
       "<Figure size 432x288 with 1 Axes>"
      ]
     },
     "metadata": {
      "needs_background": "light"
     },
     "output_type": "display_data"
    },
    {
     "data": {
      "image/png": "[encoded data removed]",
      "text/plain": [
       "<Figure size 432x288 with 1 Axes>"
      ]
     },
     "metadata": {
      "needs_background": "light"
     },
     "output_type": "display_data"
    },
    {
     "name": "stdout",
     "output_type": "stream",
     "text": [
      "26.96195875108772\n"
     ]
    }
   ],
   "source": [
    "data_obs_count,data_obs = np.histogram(st.norm.rvs(size=1000), bins=32)\n",
    "data_obs_count = data_obs_count#/data_obs_count.sum()\n",
    "\n",
    "plt.bar(data_obs[:-1],data_obs_count, width=0.15)\n",
    "plt.show()\n",
    "\n",
    "#print(data_obs)\n",
    "\n",
    "data_exp = np.array([1000*(st.norm.cdf(x=data_obs[i+1])-st.norm.cdf(x=data_obs[i])) for i in range(len(data_obs)-1)])\n",
    "data_exp = data_exp#/data_exp.sum()\n",
    "\n",
    "plt.bar(range(len(data_obs_count)),data_obs_count)\n",
    "plt.plot(range(len(data_obs_count)),data_exp,'--o',color='C1')\n",
    "plt.show()\n",
    "\n",
    "chisq = np.sum( [((data_obs_count[i]-data_exp[i])**2)/data_exp[i] for i in range(len(data_obs_count))])\n",
    "print(chisq)"
   ]
  }
 ],
 "metadata": {
  "kernelspec": {
   "display_name": "Python 3",
   "language": "python",
   "name": "python3"
  },
  "language_info": {
   "codemirror_mode": {
    "name": "ipython",
    "version": 3
   },
   "file_extension": ".py",
   "mimetype": "text/x-python",
   "name": "python",
   "nbconvert_exporter": "python",
   "pygments_lexer": "ipython3",
   "version": "3.8.10"
  }
 },
 "nbformat": 4,
 "nbformat_minor": 5
}
