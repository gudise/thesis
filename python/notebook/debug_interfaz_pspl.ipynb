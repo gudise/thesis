{
 "cells": [
  {
   "cell_type": "markdown",
   "id": "512dd35d-1dec-4711-b3e0-f5b956d61f40",
   "metadata": {},
   "source": [
    "# Debug: interfaz_pspl\n",
    "En este cuaderno implemento en Python algunas de las condiciones de la máquina de estados del módulo \"interfaz_pspl\"; en particular, simulamos la lectura de \"data_in\" en \"buffer_in\", así como la escritura de \"buffer_out\" en \"data_out\", para una gran número de combinaciones de DATA_WIDTH (dw), BUFFER_IN_WIDTH (biw) y BUFFER_OUT WIDTH (bow)."
   ]
  },
  {
   "cell_type": "code",
   "execution_count": 19,
   "id": "d7248084-d0ce-4352-b0b2-ccaea4468f79",
   "metadata": {},
   "outputs": [],
   "source": [
    "def check_scan(dw, biw, debug=0):\n",
    "\n",
    "    N=biw//dw+(biw%dw!=0)\n",
    "\n",
    "    extremos = [[] for i in range(N)]\n",
    "    for i in range(N):\n",
    "        if dw >=biw:\n",
    "            if debug:\n",
    "                print(f\"buffer_in[{biw-1}:0] <-- data_in[{dw-1}:0]\\n\")\n",
    "            extremos[i].append(biw-1)\n",
    "            extremos[i].append(0)\n",
    "        else:\n",
    "            if i<biw//dw:\n",
    "                if debug:\n",
    "                    print(f\"buffer_in[{dw*(i+1)-1}:{(dw*(i+1)-1)-dw+1}] <-- data_in[{dw-1}:0]\\n\")\n",
    "                extremos[i].append(dw*(i+1)-1)\n",
    "                extremos[i].append((dw*(i+1)-1)-dw+1)\n",
    "            elif i==biw//dw:\n",
    "                if debug:\n",
    "                    #print(f\"buffer_in[{biw-1} : {(biw//dw)*dw-(biw%dw)-1}] <-- data_in[{dw-1}:0]\\n\")\n",
    "                    print(f\"buffer_in[{biw-1} : {biw-1 - biw%dw+1}] <-- data_in[{dw-1}:0]\\n\") #prueba\n",
    "                extremos[i].append(biw-1)\n",
    "                #extremos[i].append((biw//dw)*dw-(biw%dw)-1)\n",
    "                extremos[i].append(biw-1 - biw%dw+1) # prueba\n",
    "\n",
    "    check_ok=0      \n",
    "    for i in range(1,N,1):\n",
    "        if extremos[i][1]-1 == extremos[i-1][0]:\n",
    "            check_ok+=1\n",
    "    if extremos[N-1][0]-extremos[0][1]+1 == biw:\n",
    "        check_ok+=1\n",
    "    if not debug:\n",
    "        if check_ok == N:\n",
    "            return 1\n",
    "        else:\n",
    "            return 0\n",
    "    \n",
    "            \n",
    "    "
   ]
  },
  {
   "cell_type": "code",
   "execution_count": 20,
   "id": "92747ccd-a4aa-40ec-9a6e-baf39395e6ae",
   "metadata": {
    "tags": []
   },
   "outputs": [
    {
     "name": "stdout",
     "output_type": "stream",
     "text": [
      "\n",
      " OK: 10000 out of 10000\n"
     ]
    }
   ],
   "source": [
    "dw = [i for i in range(1, 101, 1)]\n",
    "biw = [i for i in range(1, 101, 1)]\n",
    "\n",
    "ok=0\n",
    "for i in dw:\n",
    "    for j in biw:   \n",
    "        if check_scan(i, j):\n",
    "            ok+=1\n",
    "        else:\n",
    "            print(f\" dw={i}, biw={j} --> FAIL\")\n",
    "\n",
    "print(f\"\\n OK: {ok} out of {len(dw)*len(biw)}\")"
   ]
  },
  {
   "cell_type": "code",
   "execution_count": 37,
   "id": "8e7ffdf6-e223-4903-9c74-82f0250703ba",
   "metadata": {},
   "outputs": [
    {
     "name": "stdout",
     "output_type": "stream",
     "text": [
      "buffer_in[19:0] <-- data_in[19:0]\n",
      "\n",
      "buffer_in[30 : 20] <-- data_in[19:0]\n",
      "\n"
     ]
    }
   ],
   "source": [
    "dw=20\n",
    "biw=31\n",
    "check_scan(dw, biw, debug=1)"
   ]
  }
 ],
 "metadata": {
  "kernelspec": {
   "display_name": "Python 3 (ipykernel)",
   "language": "python",
   "name": "python3"
  },
  "language_info": {
   "codemirror_mode": {
    "name": "ipython",
    "version": 3
   },
   "file_extension": ".py",
   "mimetype": "text/x-python",
   "name": "python",
   "nbconvert_exporter": "python",
   "pygments_lexer": "ipython3",
   "version": "3.8.10"
  }
 },
 "nbformat": 4,
 "nbformat_minor": 5
}
