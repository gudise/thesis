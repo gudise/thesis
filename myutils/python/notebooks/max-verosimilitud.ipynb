{
 "cells": [
  {
   "cell_type": "code",
   "execution_count": 1,
   "metadata": {
    "executionInfo": {
     "elapsed": 211,
     "status": "ok",
     "timestamp": 1671464690835,
     "user": {
      "displayName": "Guillermo Díez Señorans",
      "userId": "17464631154896665360"
     },
     "user_tz": -60
    },
    "id": "WEMk82j_VVuR",
    "tags": []
   },
   "outputs": [],
   "source": [
    "import numpy as np\n",
    "from scipy.stats import binom, norm\n",
    "from scipy.optimize import minimize, Bounds\n",
    "import scipy.integrate as integrate\n",
    "from scipy.interpolate import interp1d\n",
    "import matplotlib.pyplot as plt\n",
    "\n",
    "\n",
    "def pintar_histograma_int(entrada, envolvente=\"no\"):\n",
    "    \"\"\"\n",
    "    Esta función pinta un histograma cuando los datos de entrada son enteros, utilizando tantos bins\n",
    "    como numeros diferentes componen la entrada. Está pensada para pintar distribuciones aleatorias\n",
    "    de números enteros (e.g., una binomial). La variable 'envolvente' puede ser o bien 0 (en cuyo caso se ignora),\n",
    "    o bien la curva de distribución de probabilidad, que se pintará junto al histograma\n",
    "    \"\"\"\n",
    "    maximo = max(entrada) # este sera el bin superior\n",
    "    minimo = min(entrada) # este sera el bis inferior\n",
    "\n",
    "    result = [0 for i in range(minimo,maximo+1,1)]\n",
    "    for i in range(len(entrada)):\n",
    "        result[entrada[i]-minimo]+=1\n",
    "  \n",
    "    area=0\n",
    "    for i in result:\n",
    "        area+=i\n",
    "    for i in range(len(result)):\n",
    "        result[i]=result[i]/area\n",
    "    plt.bar([i for i in range(minimo,maximo+1,1)], result)\n",
    "\n",
    "    if envolvente!=\"no\":\n",
    "        minimo_envolvente = min(envolvente)\n",
    "        for i in range(len(envolvente)):\n",
    "            envolvente[i]=envolvente[i]-minimo_envolvente\n",
    "        area=0\n",
    "        for i in envolvente:\n",
    "            area+=i\n",
    "        for i in range(len(envolvente)):\n",
    "            envolvente[i]=envolvente[i]/area\n",
    "\n",
    "        plt.plot([i for i in range(len(envolvente))], envolvente, color='tab:orange',linewidth=5.0)\n",
    "\n",
    "    plt.show()\n",
    "\n",
    "\n",
    "def generar_numeros_any(distribucion):\n",
    "    \"\"\"\n",
    "    Esta función genera un número entero aleatorio entre 0 y len(distribucion)-1 compatible con la distribución de \n",
    "    probabilidad introducida en 'distribucion'. Esta variable es una lista con los valores de la distribución de \n",
    "    probabilidad.\n",
    "    \"\"\"\n",
    "    maximo = max(distribucion)\n",
    "    minimo = min(distribucion)\n",
    "    while 1:\n",
    "        a = minimo+np.random.random()*(maximo-minimo) # genera un n aleatorio entre 0 y el maximo de la curva\n",
    "        b = np.random.randint(0, len(distribucion)) # geenra un n int aleatorio entre 0 y len(distribucion)-1\n",
    "        if a<distribucion[b]:\n",
    "            return b\n",
    "        \n",
    "        \n",
    "def invertir_funcion(f, y, x_ini):\n",
    "    \"\"\"\n",
    "    Calcula el valor 'x'>x_ini t.q. f(x)=y, con una resolución EPS=1e-7. \n",
    "    \"\"\"\n",
    "    dx=0.1\n",
    "    x=x_ini\n",
    "    EPS=1e-7\n",
    "    while 1:\n",
    "        while cumver_interp(x)<y:\n",
    "            x+=dx\n",
    "        if abs(cumver_interp(x)-y)<EPS:\n",
    "            break\n",
    "        else:\n",
    "            x-=dx\n",
    "            dx/=2\n",
    "    return x\n",
    "\n",
    "\n",
    "def derivada2_numerica(f, x0, eps=1e-7):\n",
    "    \"\"\"\n",
    "    Esta función calcula la derivada numérica a segundo orden para la función 'f(x)' en el punto 'x0'.\n",
    "    'eps' es un parámetro opcional (si no se especifica se utiliza eps=1e-7)\n",
    "    \"\"\"\n",
    "    return (f(x0+eps)+f(x0-eps)-2*f(x0))/eps**2\n",
    "  \n",
    "    \n",
    "    \n",
    "def dominio(func, x0, x1, xc, tol):\n",
    "    \"\"\"\n",
    "    Esta función calcula el intervalo (x_inf, x_sup) entorno al punto 'xc' tal que el área bajo la curva encerrada\n",
    "    coincida con alpha*area_total, donde 'area_total' es el área de la curva entre x0 y x1.\n",
    "    \"\"\"\n",
    "    dx_izda = (xc-x0)/10\n",
    "    dx_dcha = (x1-xc)/10\n",
    "    area = integrate.quad(func, x0, xc) + integrate.quad(func, xc, x1)\n",
    "    x_izda = xc\n",
    "    x_dcha = xc\n",
    "    \n",
    "    \n",
    "    while 1:\n",
    "        if x_izda > x0:\n",
    "            x_izda = xc-dx_izda\n",
    "        if x_dcha < x1:\n",
    "            x_dcha = xc+dx_dcha\n",
    "    \n",
    "    area_izda_new = integrate.quad(func, x_izda, xc)\n",
    "    area_dcha_new = integrate.quad(func, xc, x_dcha)\n",
    "    area_new = integrate.quad(func, x_izda, xc)+integrate.quad(func, xc, x_dcha)\n",
    "    if area_new - area < tol:\n",
    "        break\n",
    "    else:\n",
    "        area = area_new\n",
    "        "
   ]
  },
  {
   "cell_type": "markdown",
   "metadata": {
    "tags": []
   },
   "source": [
    "# Modelo 0-D\n",
    "El caso más sencillo de modelo que estudiamos aquí es el de una variable aleatoria $X$, la cual toma valores en el intervalo $(x_0$, $x_1)$ de acuerdo con una cierta distribución de probabilidad $P(x\\vert\\mathbf{a},\\mathcal{H})\\equiv$ probabilidad de que $X=x$ dada la hipótesis $\\mathcal{H}$ (i.e., dada una cierta forma funcional), y el conjunto de $M$ parámetros $\\mathbf{a}=\\left(a_1,\\cdots,a_M\\right)$. Dada una serie de $N$ observaciones $\\mathbf{x}=\\left(x_1,\\cdots,x_N\\right)$ el objetivo del modelado es encontrar los valores de los parámetros $\\mathbf{a}$ que mejor reproducen las observaciones $\\mathbf{x}$.\n",
    "Dada una serie de observaciones, podemos definir la probabilidad conjunta como:\n",
    "\\begin{equation}\n",
    "\\text{P}\\left(\\mathbf{x}\\vert\\mathbf{a},\\mathcal{H}\\right)\\equiv \\prod_{i=1}^{N}{\\text{P}\\left(x_i\\vert\\mathbf{a},\\mathcal{H}\\right)}\n",
    "\\end{equation}\n",
    "\n",
    "Y la función de verosimilitud:\n",
    "\\begin{equation}\n",
    "\\text{L}_{\\mathbf{x},\\mathcal{H}}\\left(\\mathbf{a}\\right)\\equiv \\text{P}\\left(\\mathbf{x}\\vert\\mathbf{a},\\mathcal{H}\\right)\n",
    "\\end{equation}\n",
    "Como se puede ver, la forma de la función de verosimilitud está determinada por la hipótesis $\\mathcal{H}$. Además, aunque depende tanto de los valores $\\mathbf{a}$ como $\\mathbf{x}$, la dependencia de estos últimos es paramétrica, y por lo tanto las únicas variables de la función de verosimilitud son las $M$ cantidades $\\mathbf{a}$.\n",
    "\n",
    "## Método de máxima verosimilitud\n",
    "El método de máxima verosimilitud consiste en encontrar el conjunto de parámetros $\\mathbf{a}$ que maximizan la función de verosimilitud $\\text{L}$; por comodidad, gneralmente se maximiza el logaritmo de esta función (notar que dado que el logaritmo es una función monótonamente creciente, el valor que maximiza el argumento también maximiza su logaritmo):\n",
    "\\begin{equation}\n",
    "    \\log{\\text{L}_{\\mathbf{x},\\mathcal{H}}\\left(\\mathbf{a}\\right)}=\\sum_{i=1}^{N}{\\log{\\text{P}\\left(x_i\\vert\\mathbf{a},\\mathcal{H}\\right)}}\n",
    "\\end{equation}\n",
    "\n",
    "### Confianza en la estimación del parámetro\n",
    "La función de verosimilitud se puede utilizar junto con una interpretación bayesiana de la probabilidad para estimar los márgenes de error de los estimadores hayados. para ello utilizamos el teorema de Bayes:\n",
    "\\begin{equation}\n",
    "\\text{P}\\left(\\mathbf{a}\\vert \\mathbf{x},\\mathcal{H}\\right)=\\frac{\\text{P}\\left(\\mathbf{x}\\vert \\mathbf{a},\\mathcal{H}\\right)\\text{P}\\left(\\mathbf{a}\\vert \\mathcal{H}\\right)}{\\text{P}\\left(\\mathbf{x}\\vert \\mathcal{H}\\right)}\n",
    "\\end{equation}\n",
    "\n",
    "Dado que la cantidad $\\text{P}\\left(\\mathbf{x}\\vert\\mathcal{H}\\right)$ depende de las cantidades $x_i$ (que son constantes dada una muestra $\\mathbf{x}$ concreta) y no de la elección de parámetros $\\mathbf{a}$, puede obviarse como una constante de normalización,\n",
    "\\begin{equation}\n",
    "\\text{P}\\left(\\mathbf{a}\\vert \\mathbf{x},\\mathcal{H}\\right)\\propto \\text{P}\\left(\\mathbf{x}\\vert \\mathbf{a},\\mathcal{H}\\right)\\text{P}\\left(\\mathbf{a}\\vert\\mathcal{H}\\right)\n",
    "\\end{equation}\n",
    "\n",
    "Por otra parte, la cantidad $\\text{P}\\left(\\mathbf{a}\\vert\\mathcal{H}\\right)$ representa la probabilidad de que los parámetros tomen ciertos valores dada la hipótesis $\\mathcal{H}$. Esta cantidad podría conocerse a raíz, por ejemplo, de argumentos físicos que impongan ciertas restricciones sobre los valores de los parámetros. Sin embargo, la opción más general es tener un desconocimiento total de los valores de estas cantidades, y por lo tanto asumir una distribución plana de los parámetros, $\\text{P}\\left(\\mathbf{a}\\vert\\mathcal{H}\\right)=\\text{cte}$:\n",
    "\\begin{equation}\n",
    "\\text{P}\\left(\\mathbf{a}\\vert \\mathbf{x},\\mathcal{H}\\right)\\propto \\text{P}\\left(\\mathbf{x}\\vert \\mathbf{a},\\mathcal{H}\\right)=\\text{L}_{\\mathbf{x},\\mathcal{H}}\\left(\\mathbf{a}\\right)\n",
    "\\end{equation}\n",
    "\n",
    "De modo que finalmente:\n",
    "\\begin{equation}\n",
    "\\text{P}\\left(\\mathbf{a}\\vert \\mathbf{x},\\mathcal{H}\\right)=\\frac{\\text{L}_{\\mathbf{x},\\mathcal{H}}\\left(\\mathbf{a}\\right)}{ \\int{\\text{L}_{\\mathbf{x},\\mathcal{H}}\\left(\\mathbf{a}\\right)\\,d\\mathbf{a}} } \n",
    "\\end{equation}"
   ]
  },
  {
   "cell_type": "markdown",
   "metadata": {
    "tags": []
   },
   "source": [
    "#### Ejemplo 1: distribución de números enteros\n",
    "Disponemos de una serie de $50$ muestras las cuales sospechamos que proceden de una cierta distribución binomial de $n=20$, pero parámetro $p$ desconocido. Buscamos el valor más probables de este parámetro utilizando el método de máxima verosimilitud. "
   ]
  },
  {
   "cell_type": "code",
   "execution_count": 2,
   "metadata": {},
   "outputs": [],
   "source": [
    "def verosimilitud_binomial(p):\n",
    "    \"\"\"\n",
    "    Esta función calcula la función de verosimilitud cambiada de signo para una muestra aleatoria \n",
    "    (lista de valores) x, utilizando los parámetros p, n de una binomial. La función es la suma de los \n",
    "    logaritmos de la binomial de parámetros p, n para cada valor de x. \n",
    "    El valor de 'p' que maximiza esta función es una estimación estadística de 'p'\n",
    "    por el método de máxima verosimilitud.\n",
    "    \"\"\"\n",
    "    result = 1\n",
    "    for i in muestras:\n",
    "        aux = binom.pmf(i, 20, p)\n",
    "        #if abs(aux) < 1e-7:\n",
    "         #   aux = 1e-7\n",
    "        result *= aux\n",
    "    return -result\n",
    "\n",
    "\n",
    "def log_verosimilitud_binomial(p):\n",
    "    \"\"\"\n",
    "    Esta función calcula la función de verosimilitud cambiada de signo para una muestra aleatoria \n",
    "    (lista de valores) x, utilizando los parámetros p, n de una binomial. La función es la suma de los \n",
    "    logaritmos de la binomial de parámetros p, n para cada valor de x. \n",
    "    El valor de 'p' que maximiza esta función es una estimación estadística de 'p'\n",
    "    por el método de máxima verosimilitud.\n",
    "    \"\"\"\n",
    "    result = 0\n",
    "    for i in muestras:\n",
    "        aux = binom.pmf(i, 20, p)\n",
    "        if aux<1e-7:\n",
    "            aux = 1e-7\n",
    "        result += np.log(aux)\n",
    "    return -result"
   ]
  },
  {
   "cell_type": "code",
   "execution_count": 38,
   "metadata": {
    "executionInfo": {
     "elapsed": 213,
     "status": "ok",
     "timestamp": 1671467733413,
     "user": {
      "displayName": "Guillermo Díez Señorans",
      "userId": "17464631154896665360"
     },
     "user_tz": -60
    },
    "id": "oc13KZr3PSei"
   },
   "outputs": [
    {
     "data": {
      "image/png": "[encoded data removed]",
      "text/plain": [
       "<Figure size 432x288 with 1 Axes>"
      ]
     },
     "metadata": {
      "needs_background": "light"
     },
     "output_type": "display_data"
    }
   ],
   "source": [
    "# MUESTRAS DE LA BINOMIAL\n",
    "\n",
    "muestras = binom.rvs(n=20, p=0.87, size=1000)\n",
    "pintar_histograma_int(muestras)"
   ]
  },
  {
   "cell_type": "code",
   "execution_count": 26,
   "metadata": {},
   "outputs": [
    {
     "name": "stdout",
     "output_type": "stream",
     "text": [
      "(0.5, 5.551115123125783e-15)\n",
      "(-2.3781080777927144e-41, 4.136177166346164e-41)\n"
     ]
    }
   ],
   "source": [
    "def func(x):\n",
    "    return x\n",
    "\n",
    "print(integrate.quad(func, 0, 1))\n",
    "\n",
    "print(integrate.quad(verosimilitud_binomial, 0, 1))"
   ]
  },
  {
   "cell_type": "code",
   "execution_count": 40,
   "metadata": {
    "tags": []
   },
   "outputs": [
    {
     "name": "stdout",
     "output_type": "stream",
     "text": [
      "Curva de log-verosimilitud normalizada:\n"
     ]
    },
    {
     "data": {
      "image/png": "[encoded data removed]",
      "text/plain": [
       "<Figure size 432x288 with 1 Axes>"
      ]
     },
     "metadata": {
      "needs_background": "light"
     },
     "output_type": "display_data"
    }
   ],
   "source": [
    "# DIBUJAMOS LA CURVA DE VEROSIMILITUD\n",
    "\n",
    "x0 = 0 # valor inicial de la curva\n",
    "x1 = 1 # valor final de la curva\n",
    "dx = 0.01 # incremento\n",
    "x_eje = [x0+i*dx for i in range(int((x1-x0)/dx))]\n",
    "\n",
    "#def ver_norm(p, area):\n",
    " #   return verosimilitud_binomial(p)/area\n",
    "#area = integrate.quad(verosimilitud_binomial, 0, 1)[0]\n",
    "#print(area)\n",
    "#print(integrate.quad(ver_norm, 0, 1, args=area))\n",
    "\n",
    "#ver = np.array([ver_norm(i, area) for i in x_eje]) # forma funcional\n",
    "#ver = ver-min(ver) # acotada inferiormente por 0\n",
    "#ver = ver/integrate.trapz(ver, x_eje) # normalizada a una dist. de probabilidad\n",
    "#ver_interp = interp1d(x_eje, ver) # interpolación de la curva de verosimilitud\n",
    "\n",
    "logver = np.array([-log_verosimilitud_binomial(i) for i in x_eje]) # forma funcional\n",
    "#logver = logver-min(logver) # acotada inferiormente por 0\n",
    "#logver = logver/integrate.trapz(logver, x_eje) # normalizada a una dist. de probabilidad\n",
    "#logver_interp = interp1d(x_eje, logver) # interpolación de la curva de verosimilitud\n",
    "\n",
    "#print(\"Curva de verosimilitud normalizada:\")\n",
    "#plt.plot(x_eje, ver)\n",
    "#plt.show()\n",
    "\n",
    "print(\"Curva de log-verosimilitud normalizada:\")\n",
    "plt.plot(x_eje, logver)\n",
    "plt.show()\n"
   ]
  },
  {
   "cell_type": "code",
   "execution_count": 41,
   "metadata": {
    "tags": []
   },
   "outputs": [
    {
     "name": "stdout",
     "output_type": "stream",
     "text": [
      "      fun: 1799.9815867731816\n",
      " hess_inv: <1x1 LbfgsInvHessProduct with dtype=float64>\n",
      "      jac: array([0.00150067])\n",
      "  message: 'CONVERGENCE: REL_REDUCTION_OF_F_<=_FACTR*EPSMCH'\n",
      "     nfev: 22\n",
      "      nit: 7\n",
      "     njev: 11\n",
      "   status: 0\n",
      "  success: True\n",
      "        x: array([0.86894999])\n",
      "\n",
      "parámetro 'p':\n",
      "0.8689499935467525\n"
     ]
    }
   ],
   "source": [
    "# Calculamos el máximo de la cuva de verosimilitud (de hecho, el mínimo de la curva cambiada de signo).\n",
    "\n",
    "res = minimize(log_verosimilitud_binomial, x0=0.5, bounds=Bounds(0,1)) # minimizamos la función de verosimilitud cambiada de signo para el parámetro 'p'.\n",
    "print(res)\n",
    "\n",
    "p_opt = res.x[0] # valor óptimo hallado.\n",
    "print(\"\\nparámetro 'p':\")\n",
    "print(p_opt)\n"
   ]
  },
  {
   "cell_type": "code",
   "execution_count": 53,
   "metadata": {},
   "outputs": [
    {
     "name": "stdout",
     "output_type": "stream",
     "text": [
      "Curva de verosimilitud (con 'p' máximo hallado):\n"
     ]
    },
    {
     "data": {
      "image/png": "[encoded data removed]",
      "text/plain": [
       "<Figure size 640x480 with 1 Axes>"
      ]
     },
     "metadata": {},
     "output_type": "display_data"
    }
   ],
   "source": [
    "# Pintamos la curva de verosimilitud junto a 'p' máximo.\n",
    "\n",
    "print(\"Curva de verosimilitud (con 'p' máximo hallado):\")\n",
    "plt.plot(x_eje, ver)\n",
    "plt.scatter([p_opt],[ver_interp(p_opt)])\n",
    "plt.show()"
   ]
  },
  {
   "cell_type": "code",
   "execution_count": 42,
   "metadata": {
    "id": "j9smibVjPLiy"
   },
   "outputs": [
    {
     "name": "stdout",
     "output_type": "stream",
     "text": [
      "Ajuste a la binomial hallada:\n"
     ]
    },
    {
     "data": {
      "image/png": "[encoded data removed]",
      "text/plain": [
       "<Figure size 432x288 with 1 Axes>"
      ]
     },
     "metadata": {
      "needs_background": "light"
     },
     "output_type": "display_data"
    }
   ],
   "source": [
    "print(\"Ajuste a la binomial hallada:\")\n",
    "pintar_histograma_int(muestras, [binom.pmf(i, n=20, p=p_opt) for i in range(21)]) # esta función pinta simultáneamente el histograma y la curva de ajuste."
   ]
  },
  {
   "cell_type": "code",
   "execution_count": 55,
   "metadata": {
    "collapsed": true,
    "jupyter": {
     "outputs_hidden": true
    },
    "tags": []
   },
   "outputs": [
    {
     "data": {
      "image/png": "[encoded data removed]",
      "text/plain": [
       "<Figure size 640x480 with 1 Axes>"
      ]
     },
     "metadata": {},
     "output_type": "display_data"
    }
   ],
   "source": [
    "# CONFIANZA EN LA ESTIMACIÓN DEL PARÁMETRO\n",
    "\n",
    "cumver = cumtrapz(ver, x_eje, initial=0) # curva de verosimilitud acumulada\n",
    "cumver_interp = interp1d(x_eje,cumver) # interpolación de la curva de verosimilitud acumulada\n",
    "\n",
    "plt.plot(x_eje, cumver)\n",
    "plt.show()"
   ]
  },
  {
   "cell_type": "code",
   "execution_count": 56,
   "metadata": {
    "tags": []
   },
   "outputs": [
    {
     "name": "stdout",
     "output_type": "stream",
     "text": [
      "0.8696977502107622\n",
      "0.8798030143976211\n",
      "0.8747503823041917+/-0.005052632093429432\n"
     ]
    }
   ],
   "source": [
    "# Usando la curva de verosimilitud como densidad de probabilidad\n",
    "\n",
    "p_inf = invertir_funcion(ver_interp, 0.341, 0.81)\n",
    "print(p_inf)\n",
    "\n",
    "p_sup = invertir_funcion(ver_interp, 0.682, 0.81)\n",
    "print(p_sup)\n",
    "\n",
    "print(f\"{0.5*(p_inf+p_sup)}+/-{0.5*(p_sup-p_inf)}\")\n",
    "\n",
    "\n"
   ]
  },
  {
   "cell_type": "code",
   "execution_count": 43,
   "metadata": {
    "tags": []
   },
   "outputs": [
    {
     "name": "stdout",
     "output_type": "stream",
     "text": [
      "p = 0.8689499935467525 +/- 0.002350275764817988\n",
      "0.8665997177819346 0.8713002693115705\n"
     ]
    }
   ],
   "source": [
    "d2 = -derivada2_numerica(log_verosimilitud_binomial, p_opt, eps=1e-7)\n",
    "sigma = 1/np.sqrt(-d2)\n",
    "print(f\"p = {p_opt} +/- {sigma}\")\n",
    "print(p_opt-sigma, p_opt+sigma)"
   ]
  },
  {
   "cell_type": "markdown",
   "metadata": {
    "tags": []
   },
   "source": [
    "# Modelo 1-D\n",
    "Ahora intentamos trasladar los resultados anteriores al caso de un modelo que no consista en un único \"punto\" cuyo valor depende de un cierto modelo probabilístico, si no en un vector, i.e., una curva (o función uniparamétrica) aleatoria, donde la propia curva es en sí misma una entidad aleatoria, formada por puntos cada uno de los cuales es una variable aleatoria de acuerdo a un cierto modelo estocástico el cual depende de una serie de parámetros que queremos ajustar para reproducir tan bien como sea posible un conjunto de medidas (muestra, donde ahora cada elemento de la \"muestra\" es toda una sucesión de valores). "
   ]
  },
  {
   "cell_type": "markdown",
   "metadata": {},
   "source": [
    "#### Ejemplo\n",
    "Tenemos una curva $f(x)$, la cual toma valores en un dominio $x\\in(x_0,x_1)$. Disponemos de un modelo estocástico para $f$ dado por:\n",
    "\\begin{equation}\n",
    "f(x) = mx+\\xi\n",
    "\\end{equation}\n",
    "donde $\\xi$ es una variable aleatoria que se distribuye normalmente con media nula y varianza unidad, $\\xi \\sim \\mathcal{N}(\\mu=0,\\sigma=1)$"
   ]
  },
  {
   "cell_type": "code",
   "execution_count": 2,
   "metadata": {},
   "outputs": [],
   "source": [
    "x0 = 0 # valor inicial de la curva\n",
    "x1 = 10 # valor final de la curva\n",
    "dx = 0.1 # incremento\n",
    "\n",
    "pendiente = 1\n",
    "\n",
    "x = [x0+i*dx for i in range(int((x1-x0)/dx))]\n",
    "y = [pendiente*i for i in x]"
   ]
  },
  {
   "cell_type": "code",
   "execution_count": 15,
   "metadata": {},
   "outputs": [
    {
     "data": {
      "image/png": "[encoded data removed]",
      "text/plain": [
       "<Figure size 432x288 with 1 Axes>"
      ]
     },
     "metadata": {
      "needs_background": "light"
     },
     "output_type": "display_data"
    },
    {
     "name": "stdout",
     "output_type": "stream",
     "text": [
      "\n",
      "Prob. de esta muestra: -14.765983489790369\n"
     ]
    }
   ],
   "source": [
    "muestra = [pendiente*i+norm.rvs() for i in x]\n",
    "\n",
    "#plt.scatter(x,muestra)\n",
    "plt.plot(x,muestra)\n",
    "\n",
    "plt.plot(x,y, color=\"tab:orange\", linewidth=3.0)\n",
    "\n",
    "plt.show()\n",
    "\n",
    "prob=0\n",
    "for i,m in enumerate(muestra):\n",
    "    prob+=np.log(norm.pdf(m-x[i]*pendiente))*dx\n",
    "print(f\"\\nProb. de esta muestra: {(prob)}\")\n"
   ]
  },
  {
   "cell_type": "code",
   "execution_count": 22,
   "metadata": {},
   "outputs": [],
   "source": [
    "## Generamos varias muestras (10?) y las guardamos en una lista, junto con sus correspondientes probs (logaritmo)\n",
    "lista_muestras = [[],[]]\n",
    "for i in range(10):\n",
    "    muestra = [pendiente*i+norm.rvs() for i in x]\n",
    "    lista_muestras[0].append(muestra)\n",
    "    lista_muestras[1].append(sum([np.log(norm.pdf(m-x[j]*pendiente))*dx for j,m in enumerate(muestra)]))\n",
    "    \n",
    "#for i in lista_muestras[1]:\n",
    " #   print(i)\n",
    "    \n",
    "def prob_curva(par, curva):\n",
    "    return sum([np.log(norm.pdf(c-par*x[i])) for i,c in enumerate(curva)])\n",
    "    \n",
    "# función de verosimilitud:\n",
    "def func_ver_2d(par, muestras):\n",
    "    \"\"\"\n",
    "    Aquí los numeros estan producidos por un modelo y=mx+xi\n",
    "    \"\"\"\n",
    "    result=0\n",
    "    for i in muestras:\n",
    "        result+=prob_curva(par, i)\n",
    "    return -result\n",
    "    \n",
    "    \n",
    "m0=0\n",
    "m1=2\n",
    "dm=0.1\n",
    "fv_x=[m0+i*dm for i in range(int((m1-m0)/dm))]\n",
    "fv_y=[func_ver_2d(m, lista_muestras[0]) for m in fv_x]\n",
    "    "
   ]
  },
  {
   "cell_type": "code",
   "execution_count": 23,
   "metadata": {},
   "outputs": [
    {
     "data": {
      "image/png": "[encoded data removed]",
      "text/plain": [
       "<Figure size 432x288 with 1 Axes>"
      ]
     },
     "metadata": {
      "needs_background": "light"
     },
     "output_type": "display_data"
    }
   ],
   "source": [
    "plt.plot(fv_x,fv_y)\n",
    "plt.show()"
   ]
  },
  {
   "cell_type": "code",
   "execution_count": 24,
   "metadata": {},
   "outputs": [
    {
     "name": "stdout",
     "output_type": "stream",
     "text": [
      " final_simplex: (array([[0.99580078],\n",
      "       [0.99589844]]), array([1430.49191405, 1430.49191482]))\n",
      "           fun: 1430.4919140527109\n",
      "       message: 'Optimization terminated successfully.'\n",
      "          nfev: 32\n",
      "           nit: 16\n",
      "        status: 0\n",
      "       success: True\n",
      "             x: array([0.99580078])\n",
      "\n",
      "parámetro 'p':\n",
      "0.9958007812500012\n"
     ]
    }
   ],
   "source": [
    "# Calculamos el máximo de la cuva de verosimilitud (de hecho, el mínimo de la curva cambiada de signo).\n",
    "\n",
    "res = minimize(func_ver_2d, x0=0.5, args=lista_muestras[0], method='Nelder-Mead', bounds=Bounds(0,2)) # minimizamos la función de verosimilitud cambiada de signo para el parámetro 'p'.\n",
    "print(res)\n",
    "\n",
    "p_opt = res.x[0] # valor óptimo hallado.\n",
    "print(\"\\nparámetro 'p':\")\n",
    "print(p_opt)"
   ]
  },
  {
   "cell_type": "markdown",
   "metadata": {},
   "source": [
    "# Simulación max. verosimilitud de datos binomiales"
   ]
  },
  {
   "cell_type": "code",
   "execution_count": 1,
   "metadata": {},
   "outputs": [],
   "source": [
    "import scipy.stats as st\n",
    "import numpy as np\n",
    "import matplotlib.pyplot as plt"
   ]
  },
  {
   "cell_type": "code",
   "execution_count": 31,
   "metadata": {},
   "outputs": [
    {
     "name": "stdout",
     "output_type": "stream",
     "text": [
      "100000\r"
     ]
    },
    {
     "data": {
      "image/png": "[encoded data removed]",
      "text/plain": [
       "<Figure size 640x480 with 1 Axes>"
      ]
     },
     "metadata": {},
     "output_type": "display_data"
    }
   ],
   "source": [
    "T = 100000\n",
    "N = 1000\n",
    "n = 100\n",
    "p = 0.48\n",
    "\n",
    "verosim = []\n",
    "for t in range(T):\n",
    "    data = st.binom.rvs(n=n,p=p,size=N)\n",
    "    data_unique,data_count = np.unique(data,return_counts=True)\n",
    "    data_count = data_count/N\n",
    "    verosim.append(-np.log(data_count).sum()+len(data_unique)*np.log(N))\n",
    "\n",
    "    if (t+1)%100==0:\n",
    "        print(t+1,end='\\r')\n",
    "\n",
    "plt.hist(verosim,bins=20, rwidth=0.9)\n",
    "plt.show()"
   ]
  }
 ],
 "metadata": {
  "colab": {
   "authorship_tag": "ABX9TyNJPML34jjfUDFvUEI9BIk8",
   "provenance": []
  },
  "kernelspec": {
   "display_name": "Python 3 (ipykernel)",
   "language": "python",
   "name": "python3"
  },
  "language_info": {
   "codemirror_mode": {
    "name": "ipython",
    "version": 3
   },
   "file_extension": ".py",
   "mimetype": "text/x-python",
   "name": "python",
   "nbconvert_exporter": "python",
   "pygments_lexer": "ipython3",
   "version": "3.11.4"
  },
  "toc-autonumbering": false,
  "toc-showcode": false,
  "toc-showmarkdowntxt": false
 },
 "nbformat": 4,
 "nbformat_minor": 4
}
