{
 "cells": [
  {
   "cell_type": "markdown",
   "id": "29f7f2db-b889-4cb7-b99f-8470a388f058",
   "metadata": {},
   "source": [
    "El objetivo de este cuaderno es encontrar una buena función de distribución para el estadístico de Kolmogorov-Smirnov tal y como lo utilizo en mi tesois; este estadístico probablemente dependerá de los parámetro n y p de la binomial hipotéticamente subyacente, así como del número N de muestras aleatorias extraídas. "
   ]
  },
  {
   "cell_type": "code",
   "execution_count": 1,
   "id": "ba8d6130-8ac7-4196-8f87-dcd4730f9061",
   "metadata": {},
   "outputs": [],
   "source": [
    "import numpy as np\n",
    "import scipy.stats as st\n",
    "import scipy.optimize as opt\n",
    "import matplotlib.pyplot as plt\n",
    "from myutils.mystats import Dks_monte_carlo_discrete, fit_skewnorm"
   ]
  },
  {
   "cell_type": "code",
   "execution_count": 2,
   "id": "a756fbe6-d6df-4adb-8bf9-2542639dbeeb",
   "metadata": {},
   "outputs": [],
   "source": [
    "plt.rc('text', usetex=True)\n",
    "plt.rc('font', size=16, family='serif')\n",
    "plt.rc('figure', autolayout=True) # Esto ayuda a que algunas figuras encajen mejor"
   ]
  },
  {
   "cell_type": "code",
   "execution_count": 5,
   "id": "ff3b0b29-955e-4bb3-a239-37ba58c10a14",
   "metadata": {},
   "outputs": [],
   "source": [
    "def gen_data(N,n,p):\n",
    "    \"\"\"Esta función genera los N datos aleatorios y los devuelve como un 1darray\n",
    "    \"\"\"\n",
    "    ## Generamos N valores binomiales\n",
    "    # return st.binom.rvs(n=n,p=p,size=N)\n",
    "\n",
    "    ## Generamos bitwords de 'n' bits, y devolvemos la suma:\n",
    "    # result=[]\n",
    "    # for i in range(N):\n",
    "        # result.append(np.random.choice([0,1], size=n, p=[1-p,p]).sum())\n",
    "    # return np.array(result)\n",
    "\n",
    "    ## Calculamos la dist. primitiva esperada y la distancia de Hamming\n",
    "    p_prim = 1/2-np.sqrt(1-2*p)/2\n",
    "    set_prim = [np.random.choice([1,0],size=n,p=[p_prim,1-p_prim]) for i in range(N)]\n",
    "    result=[]\n",
    "    for i in range(N):\n",
    "        for j in range(i+1,N,1):\n",
    "            aux=0\n",
    "            for k in range(n):\n",
    "                if set_prim[i][k] != set_prim[j][k]:\n",
    "                    aux+=1\n",
    "            result.append(aux)\n",
    "    return np.array(result)"
   ]
  },
  {
   "cell_type": "markdown",
   "id": "5f0205e8-edb7-4583-9d42-919e86b13e15",
   "metadata": {
    "jp-MarkdownHeadingCollapsed": true
   },
   "source": [
    "# Análisis detallado paso a paso"
   ]
  },
  {
   "cell_type": "markdown",
   "id": "f81b6b14-32d7-4ed5-8632-846f03ecee09",
   "metadata": {},
   "source": [
    "## Definimos los hiperparámetros"
   ]
  },
  {
   "cell_type": "code",
   "execution_count": null,
   "id": "fe8f70d5-000b-4081-a22a-2fdffd99173f",
   "metadata": {},
   "outputs": [],
   "source": [
    "N = 100\n",
    "n = 100\n",
    "p = 0.07929443939330072"
   ]
  },
  {
   "cell_type": "markdown",
   "id": "d956da97-5d2d-48fd-bc9e-71c553ad5dd9",
   "metadata": {},
   "source": [
    "## Generamos los datos Dks"
   ]
  },
  {
   "cell_type": "code",
   "execution_count": null,
   "id": "26bd5e66-713e-4910-b28e-781db8aae271",
   "metadata": {},
   "outputs": [],
   "source": [
    "Dks=[]\n",
    "for t in range(1000):\n",
    "    data = np.array([gen_data(N) for i in range(20)]).flatten()\n",
    "    hist_data,_ = np.histogram(data, bins=n+1, range=(0,n), density=True) #np.unique(data,return_counts=True)\n",
    "    \n",
    "    Dks.append(np.max([np.abs(i-j) for i,j in zip(hist_data.cumsum(),st.binom.cdf(k=range(n+1),n=n,p=p))]))\n",
    "    \n",
    "    if (t+1)%100==0:\n",
    "        print(f\"{(t+1)/100:.0f} %\",end='\\r') # Número formateado a entero."
   ]
  },
  {
   "cell_type": "markdown",
   "id": "286aa557-b469-40e8-a9a7-29b77b6f1aba",
   "metadata": {},
   "source": [
    "## Construimos el histograma"
   ]
  },
  {
   "cell_type": "code",
   "execution_count": null,
   "id": "04a390ea-0742-4911-9459-43a3aa280c17",
   "metadata": {},
   "outputs": [],
   "source": [
    "#print(len(get_hist_smooth(Dks,p=0.9)[0]))\n",
    "hist,bins = np.histogram(Dks, density=True, bins=15, range=(0,max(Dks)))\n",
    "\n",
    "plt.bar(bins[:-1],hist, width=0.9*(bins[1]-bins[0]))\n",
    "plt.show()"
   ]
  },
  {
   "cell_type": "markdown",
   "id": "e18c9e38-5999-4348-bfb8-8d42a6482d7d",
   "metadata": {},
   "source": [
    "## Ajustamos el histograma a una curva normal sesgada"
   ]
  },
  {
   "cell_type": "code",
   "execution_count": null,
   "id": "4ddbd9bb-3381-40ae-ae38-036c1f8f1002",
   "metadata": {},
   "outputs": [],
   "source": [
    "a,loc,scale = opt.curve_fit(st.skewnorm.pdf, xdata=bins[:-1], ydata=hist, p0=[1,1,1])[0]\n",
    "print(f\"a:\\t{a}\\nloc:\\t{loc}\\nscale:\\t{scale}\")\n",
    "\n",
    "plt.plot(np.linspace(bins[0],bins[-1],100),st.skewnorm.pdf(np.linspace(bins[0],bins[-1],100),a=a,loc=loc,scale=scale),color='C1')\n",
    "plt.bar(bins[:-1],hist, width=0.9*(bins[1]-bins[0]),color='C0')\n",
    "plt.show()"
   ]
  },
  {
   "cell_type": "markdown",
   "id": "fb10aa75-04a4-4656-aab6-3dbac0a89eec",
   "metadata": {},
   "source": [
    "## Calculamos el intervalo de confianza (-inf,conf) para las significancias típicas"
   ]
  },
  {
   "cell_type": "code",
   "execution_count": null,
   "id": "5d320eb7-15ac-4a62-87f0-4a0c62e48369",
   "metadata": {},
   "outputs": [],
   "source": [
    "alpha = [1-68/100, 1-95/100, 1-99/100] # Niveles de significancia típicos (\"regla empírica\").\n",
    "\n",
    "def func(x,a,loc,scale,alpha):\n",
    "    return st.skewnorm.cdf(x=x,a=a,loc=loc,scale=scale)-(1-alpha)\n",
    "\n",
    "conf = [opt.root_scalar(func, args=(a,loc,scale,alpha), bracket=(bins[0],bins[-1]))['root'] for alpha in alpha]\n",
    "\n",
    "plt.plot(np.linspace(bins[0],bins[-1],100),st.skewnorm.pdf(x=np.linspace(bins[0],bins[-1],100),a=a,loc=loc,scale=scale),color='C1', label=\"Interpolación\",lw=3)\n",
    "plt.bar(bins[:-1],hist, width=0.9*(bins[1]-bins[0]),color='C0', label=\"Simulación\")\n",
    "plt.annotate(text=f\"$32 \\%$\", xy=(conf[0],0), xytext=(conf[0],0.95*max(hist)),\n",
    "             arrowprops=dict(width=1,headwidth=0,color='grey'),color='grey')\n",
    "plt.annotate(text=f\"$5 \\%$\", xy=(conf[1],0), xytext=(conf[1],0.95*max(hist)),\n",
    "             arrowprops=dict(width=1,headwidth=0,color='grey'),color='grey')\n",
    "plt.annotate(text=f\"$1 \\%$\", xy=(conf[2],0), xytext=(conf[2],0.95*max(hist)),\n",
    "             arrowprops=dict(width=1,headwidth=0,color='grey'),color='grey')\n",
    "plt.xlabel(\"Estadístico de Kolmogorov-Smirnov\")\n",
    "plt.ylabel(\"Probabilidad\")\n",
    "#plt.legend()\n",
    "#plt.show()\n",
    "plt.savefig(\"distribucion-dks.pdf\",bbox_inches='tight')\n",
    "\n",
    "print(f\"N: {N}\\nn: {n}\\np: {p}\\n\")\n",
    "print(f\"alpha\\tconf\\n{alpha[0]:.2f}\\t{conf[0]}\\n{alpha[1]:.2f}\\t{conf[1]}\\n{alpha[2]:.2f}\\t{conf[2]}\\n----------------------------------\")"
   ]
  },
  {
   "cell_type": "markdown",
   "id": "909c64ed-f1dd-4fa6-be35-08535550e888",
   "metadata": {},
   "source": [
    "## Calculamos el intervalo de confianza entorno a la media para las significancias típicas"
   ]
  },
  {
   "cell_type": "code",
   "execution_count": null,
   "id": "863930ee-48d6-48d5-a93e-60de0497b14c",
   "metadata": {},
   "outputs": [],
   "source": [
    "print(st.skewnorm.interval(0.68,a=a,loc=loc,scale=scale))\n",
    "print(st.skewnorm.interval(0.95,a=a,loc=loc,scale=scale))\n",
    "print(st.skewnorm.interval(0.99,a=a,loc=loc,scale=scale))"
   ]
  },
  {
   "cell_type": "markdown",
   "id": "dcdc4fd1-0ebb-4946-88e8-dff6c203ee9a",
   "metadata": {
    "jp-MarkdownHeadingCollapsed": true
   },
   "source": [
    "# Función para realizar la simulación de Monte-Carlo de Dks:"
   ]
  },
  {
   "cell_type": "code",
   "execution_count": 6,
   "id": "198032c3-ade5-412e-a4bf-5f3ed31a90be",
   "metadata": {},
   "outputs": [
    {
     "name": "stdout",
     "output_type": "stream",
     "text": [
      "1/100\n",
      "alpha: 0.05 --> p val: 0.08590867878761452\n"
     ]
    },
    {
     "data": {
      "image/png": "[encoded data removed]",
      "text/plain": [
       "<Figure size 640x480 with 1 Axes>"
      ]
     },
     "metadata": {},
     "output_type": "display_data"
    },
    {
     "data": {
      "text/plain": [
       "(4.860243809364192,\n",
       " 0.023230164536293868,\n",
       " 0.03197942143106556,\n",
       " array([ 0.        ,  0.40659003,  8.11196694, 21.09309741, 20.2303332 ,\n",
       "        18.67339089, 13.67530857,  8.04254913,  4.41298935,  2.48912433,\n",
       "         0.98176617,  0.58509297,  0.2975049 ,  0.10908513,  0.05950098]),\n",
       " array([0.        , 0.01008387, 0.02016774, 0.0302516 , 0.04033547,\n",
       "        0.05041934, 0.06050321, 0.07058707, 0.08067094, 0.09075481,\n",
       "        0.10083868, 0.11092254, 0.12100641, 0.13109028, 0.14117415,\n",
       "        0.15125801]))"
      ]
     },
     "execution_count": 6,
     "metadata": {},
     "output_type": "execute_result"
    }
   ],
   "source": [
    "Dks = []\n",
    "for i in range(100):\n",
    "    Dks += Dks_monte_carlo_discrete(model=gen_data, T=10000, N=20, fit=st.binom.pmf(k=range(101),n=100,p=0.5), n=100, p=0.5)\n",
    "    print(f'{i+1}/100')\n",
    "\n",
    "fit_skewnorm(Dks, bins=15, alpha=0.05, plot=True)"
   ]
  }
 ],
 "metadata": {
  "kernelspec": {
   "display_name": "Python 3 (ipykernel)",
   "language": "python",
   "name": "python3"
  },
  "language_info": {
   "codemirror_mode": {
    "name": "ipython",
    "version": 3
   },
   "file_extension": ".py",
   "mimetype": "text/x-python",
   "name": "python",
   "nbconvert_exporter": "python",
   "pygments_lexer": "ipython3",
   "version": "3.11.4"
  }
 },
 "nbformat": 4,
 "nbformat_minor": 5
}
